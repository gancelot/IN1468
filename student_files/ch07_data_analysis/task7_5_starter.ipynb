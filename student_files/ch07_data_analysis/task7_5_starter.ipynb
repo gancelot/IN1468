{
 "cells": [
  {
   "cell_type": "markdown",
   "id": "c3389e5c-48c7-404d-8acf-2b78b425dbcd",
   "metadata": {},
   "source": [
    "# task7_5_starter (Starter file)\n",
    "## Working with a Log File"
   ]
  },
  {
   "cell_type": "code",
   "execution_count": 17,
   "id": "cc32aa7c-0081-4f33-80df-245ec95e2010",
   "metadata": {},
   "outputs": [],
   "source": [
    "import sys\n",
    "\n",
    "import matplotlib.pyplot as plt\n",
    "import numpy as np\n",
    "import pandas as pd\n",
    "\n",
    "from folium import Map, plugins\n",
    "from pygeoip import GeoIP, GeoIPError"
   ]
  },
  {
   "cell_type": "code",
   "execution_count": 2,
   "id": "d04339f4-dfea-40f8-8213-9a89f77f80bf",
   "metadata": {},
   "outputs": [],
   "source": [
    "filepath = '../resources/new_access.log'"
   ]
  },
  {
   "cell_type": "markdown",
   "id": "d7545e3a-7af5-4464-a053-027cd3de8f6e",
   "metadata": {},
   "source": [
    "<br><br>\n",
    "### Read the data from our the log file.  Display its shape, first few records, and column structure. "
   ]
  },
  {
   "cell_type": "code",
   "execution_count": 2,
   "id": "7ddb3a28-266a-4f62-959a-df2dfbf9cdc9",
   "metadata": {},
   "outputs": [],
   "source": [
    "# Step 1. Create a new DataFrame, call it log.\n",
    "#         Use read_csv() to acquire the log file data.  To read from this non-CSV file, use sep='\\s+'.\n",
    "#         Also, use the following column names:  names=['addr', 'req_date', 'path', 'status', 'size', 'browser']\n",
    "#         Finally, don't read all the resulting columns, lets only use these columns (indexes): 0, 3, 5, 6, 7, 9.\n",
    "\n",
    "# Display the shape of the resulting DataFrame.\n"
   ]
  },
  {
   "cell_type": "code",
   "execution_count": 1,
   "id": "274c8d65-027c-492e-8d3e-e68989b5df28",
   "metadata": {},
   "outputs": [],
   "source": [
    "# Display the first few records (hint: use head() )\n"
   ]
  },
  {
   "cell_type": "code",
   "execution_count": 3,
   "id": "bb75441f-dfcb-4ac9-8301-9e6f0cc52467",
   "metadata": {},
   "outputs": [],
   "source": [
    "# Display the meta-data of the DataFrame (e.g., use info() )\n"
   ]
  },
  {
   "cell_type": "markdown",
   "id": "cef38fbd-2a7a-4272-94ac-4ac32248010a",
   "metadata": {},
   "source": [
    "<br><br>\n",
    "### View the unique values in the *status* column."
   ]
  },
  {
   "cell_type": "code",
   "execution_count": 4,
   "id": "d2bd17c8-154f-44e3-bc53-6851e3794695",
   "metadata": {},
   "outputs": [],
   "source": [
    "# Step 2. Display the unique values found in the status column.  Try it by selecting the column and using unique()\n"
   ]
  },
  {
   "cell_type": "markdown",
   "id": "00e92cb5-5905-4308-8563-b711aa0ae3fe",
   "metadata": {},
   "source": [
    "<br><br>\n",
    "### Use *value_counts()* instead to get a better picture for each status value."
   ]
  },
  {
   "cell_type": "code",
   "execution_count": 5,
   "id": "722b9541-95ed-40db-b88e-7f0862014b4c",
   "metadata": {},
   "outputs": [],
   "source": [
    "# value_counts() gives the count values for each status.  It works the same way, try invoking value_counts() instead.\n"
   ]
  },
  {
   "cell_type": "markdown",
   "id": "9b7878ea-0ac1-4db7-8644-fc54f79c3d07",
   "metadata": {},
   "source": [
    "<br><br>\n",
    "### Convert the date column, which is currently a string, into an actual datetime object.  View the results again."
   ]
  },
  {
   "cell_type": "code",
   "execution_count": 6,
   "id": "7f001d24-c11d-4494-87a5-fa3cfa40afbc",
   "metadata": {},
   "outputs": [],
   "source": [
    "# Step 3. The date shows up as a string.  This is due to the leading '[' in front of each date value.  Convert the string\n",
    "#         into a datetime object using pd.to_datetime().  Pass the req_date column in and the format.  Use format='[%d/%b/%Y:%H:%M:%S'\n",
    "#         Store the results back into the req_date column (i.e., overwrite the old column values).\n"
   ]
  },
  {
   "cell_type": "code",
   "execution_count": 7,
   "id": "45452a52-3dca-4add-870b-1e93d6f92cad",
   "metadata": {},
   "outputs": [],
   "source": [
    "# Examine the results of the above operation by doing a head() check.\n"
   ]
  },
  {
   "cell_type": "code",
   "execution_count": 9,
   "id": "24007684-8e61-431e-838e-377e82948290",
   "metadata": {},
   "outputs": [],
   "source": [
    "# Do an info() check as well.\n"
   ]
  },
  {
   "cell_type": "markdown",
   "id": "6ee22308-8ed2-43e5-8365-dae0db9299b5",
   "metadata": {},
   "source": [
    "<br><br>\n",
    "### Get a picture of which IP addresses made the most requests.  Do this by using groupby() capabilities."
   ]
  },
  {
   "cell_type": "code",
   "execution_count": 10,
   "id": "a466af62-a1c1-4f2b-a825-03bfecd50ef3",
   "metadata": {},
   "outputs": [],
   "source": [
    "# Step 4. From a security perspective, let's check if any IP addresses seem to be making a large number of requests.\n",
    "#         Do this by grouping by 'addr' and then getting the size() of each group.  Take the 10 largest groups by\n",
    "#         doing .nlargest(10).  Print the top 10 addresses.\n"
   ]
  },
  {
   "cell_type": "markdown",
   "id": "ba51cedd-7b37-4859-a500-3801b70cd900",
   "metadata": {},
   "source": [
    "<br><br>\n",
    "### Plot these results in a 'barh' graph."
   ]
  },
  {
   "cell_type": "code",
   "execution_count": 11,
   "id": "2a7cb8a3-2323-4851-a87f-e40fbb352bc6",
   "metadata": {},
   "outputs": [],
   "source": [
    "# Plot the results directly from the Series obtained above.  Use the .plot() method supplying a kind='barh' parameter.\n"
   ]
  },
  {
   "cell_type": "markdown",
   "id": "377527df-068e-4663-8218-3681fea4e37c",
   "metadata": {},
   "source": [
    "<br><br>\n",
    "### Create a new column containing only the HTTP Method (e.g., 'GET', 'POST', etc.)"
   ]
  },
  {
   "cell_type": "code",
   "execution_count": 12,
   "id": "1be83db0-149c-40b6-aae8-ec2b08eb0497",
   "metadata": {},
   "outputs": [],
   "source": [
    "# Step 5. POST requests might be more of a security concern than GET requests.  Let's extract the first word\n",
    "#         out of the 'path' column and place that into a new column called 'method'\n",
    "#         Select the path column, and then use apply().  Pass into it a lambda function.  This function will \n",
    "#         be called for every row in the DataFrame.  The lambda looks like this:     lambda cell: cell.split()[0]\n",
    "\n",
    "#         Save the results of this operation into the new column as follows:    log['method'] = log.path.apply()\n"
   ]
  },
  {
   "cell_type": "code",
   "execution_count": 13,
   "id": "f56dd1f0-9235-46e6-85dc-27db7320d9e3",
   "metadata": {},
   "outputs": [],
   "source": [
    "# Do a head() check again.\n"
   ]
  },
  {
   "cell_type": "markdown",
   "id": "22e5546e-f3e5-4f1b-ad02-2ec27c8791f3",
   "metadata": {},
   "source": [
    "<br><br>\n",
    "### Examine only the 'POST' records, and get the top 10 addresses making 'POST' requests"
   ]
  },
  {
   "cell_type": "code",
   "execution_count": 14,
   "id": "27860727-5459-40b4-aec6-ad2793851250",
   "metadata": {},
   "outputs": [],
   "source": [
    "# Step 6. With the new 'method' column, use a mask to only consider 'POST' requests now.  Plug the mask back into the\n",
    "#         array and then groupby() 'addr' again.  Get the size() of each group and keep the top 10 (.nlargest(10) ).\n"
   ]
  },
  {
   "cell_type": "markdown",
   "id": "8fb58a18-509b-4acc-bbab-8748fbce1ad8",
   "metadata": {},
   "source": [
    "<br><br>\n",
    "### Plot these results in a 'barh' graph again."
   ]
  },
  {
   "cell_type": "code",
   "execution_count": 15,
   "id": "83f20640-2e90-47dc-97d0-8cda6f2b0884",
   "metadata": {},
   "outputs": [],
   "source": [
    "# As before, plot the results from the Series obtained above using .plot() and supplying a kind='barh' parameter.\n"
   ]
  },
  {
   "cell_type": "markdown",
   "id": "f93cd26f-0eb6-4f72-9d0c-e9235a7bee74",
   "metadata": {},
   "source": [
    "<br><br>\n",
    "### Lookup IP addresses retrieving city, country, latitude, and longitude information for each one"
   ]
  },
  {
   "cell_type": "code",
   "execution_count": 21,
   "id": "6bdea82a-4303-496f-9621-50a9f9d82899",
   "metadata": {},
   "outputs": [],
   "source": [
    "ip_addr_lookup_file = '../resources/GeoLiteCity.dat'"
   ]
  },
  {
   "cell_type": "code",
   "execution_count": 22,
   "id": "24d6f64f-9d10-4d66-8366-ba0481229e01",
   "metadata": {},
   "outputs": [],
   "source": [
    "# Step 7. For fun, let's look up some of these IP addresses.  For example, pass the most common IP address\n",
    "#         into a call to geoip.record_by_addr() in the space below.  (Note: it was '149.56.83.40')\n",
    "geoip = GeoIP(ip_addr_lookup_file)\n"
   ]
  },
  {
   "cell_type": "code",
   "execution_count": 23,
   "id": "5c6f3298-0eb7-47cf-b0f9-ecf7dc991b55",
   "metadata": {},
   "outputs": [],
   "source": [
    "def get_location(addr):\n",
    "    results = ['', '', 0, 0]\n",
    "    try:\n",
    "        info = geoip.record_by_addr(addr)\n",
    "        if info:\n",
    "            results = [info.get('country_name'), info.get('city'), info.get('latitude'), info.get('longitude')]\n",
    "    except GeoIPError:\n",
    "        pass\n",
    "    \n",
    "    return results"
   ]
  },
  {
   "cell_type": "code",
   "execution_count": 20,
   "id": "82143ad9-1200-4d72-bcb2-86197978e267",
   "metadata": {},
   "outputs": [],
   "source": [
    "# Now we'll repeat the lookup for EVERY record in the DataFrame.  A function has been provided above that accepts an\n",
    "# address and returns a list of [country, city, latitude, longitude].  Pass that function into the apply() call below.\n",
    "# Note: running this cell may take 1-3 minutes.\n",
    "results = log.addr.apply()"
   ]
  },
  {
   "cell_type": "code",
   "execution_count": 21,
   "id": "51c8f064-bab7-45be-877b-493deccacdbb",
   "metadata": {},
   "outputs": [],
   "source": [
    "# The results from the lookup are converted to a DataFrame below.  Run this cell.\n",
    "locations = pd.DataFrame(results.to_numpy().tolist(), columns=['country', 'city', 'latitude', 'longitude'])"
   ]
  },
  {
   "cell_type": "code",
   "execution_count": 24,
   "id": "4e7d880e-f39c-4059-b88b-916f54773518",
   "metadata": {},
   "outputs": [],
   "source": [
    "# Perform a head() check on the locations DataFrame.\n"
   ]
  },
  {
   "cell_type": "markdown",
   "id": "df5b80d7-dbf9-4b2a-9df9-54bbbe4be87c",
   "metadata": {},
   "source": [
    "<br><br>\n",
    "### Join the original DataFrame and the new results together using concat()"
   ]
  },
  {
   "cell_type": "code",
   "execution_count": 25,
   "id": "9a824cd8-8131-4d2f-9efc-010d379f369c",
   "metadata": {},
   "outputs": [],
   "source": [
    "# Step 8. Join the original DataFrame (log) to the new DataFrame (locations) in a row-by-row manner.\n",
    "#         To do this, use pd.concat() passing in a list of DataFrames [log, locations] and perform the operation\n",
    "#         along axis=1 (columns direction).  Call the new DataFrame \"merged\".  merged = pd.concat()  \n",
    "#         View the first few records again.\n"
   ]
  },
  {
   "cell_type": "markdown",
   "id": "6625ac9f-b1ae-4060-9a9a-73e4fd773e6e",
   "metadata": {},
   "source": [
    "<br><br>\n",
    "### Plot the top 10 cities identified within the newly merged DataFrame.  Hint: *.groupby('city')*"
   ]
  },
  {
   "cell_type": "code",
   "execution_count": 26,
   "id": "68a74eec-4940-4efe-8464-139fbd05b0f5",
   "metadata": {},
   "outputs": [],
   "source": [
    "# Step 9. Group the merged DataFrame by 'city' and get the size() of each group and take the .nlargest(10) again.\n",
    "#         Plot the results in a 'barh' graph again.\n"
   ]
  },
  {
   "cell_type": "markdown",
   "id": "5af9767e-4a4a-45eb-9517-683132560c61",
   "metadata": {},
   "source": [
    "<br><br>\n",
    "### Plot these cities in a world map using the Folium library\n",
    "For more on Folium, visit: https://pypi.org/project/folium/"
   ]
  },
  {
   "cell_type": "code",
   "execution_count": null,
   "id": "7334800b-c2ac-4f47-a663-c1aa25e21a7f",
   "metadata": {},
   "outputs": [],
   "source": [
    "# For fun, let's plot these top 10 cities on a map.  Below, the code extracts the latitudes and longitudes of\n",
    "# the top 10 cities.  Verify this by running this cell and printing the lat_longs variable.\n",
    "lat_longs = []\n",
    "for city in top10_cities.index:\n",
    "    latitude = merged.loc[city == merged['city'], 'latitude']\n",
    "    longitude = merged.loc[city == merged['city'], 'longitude']\n",
    "    lat_longs.append((latitude.iloc[0], longitude.iloc[0]))\n"
   ]
  },
  {
   "cell_type": "code",
   "execution_count": null,
   "id": "717db6aa-a469-426e-8aac-2fc88939d3d3",
   "metadata": {},
   "outputs": [],
   "source": []
  },
  {
   "cell_type": "code",
   "execution_count": null,
   "id": "4f5322f8-f4ea-4107-ba8e-100e68dc93df",
   "metadata": {},
   "outputs": [],
   "source": [
    "# Pass lat_longs into the HeatMap() object below and run this cell\n",
    "map = Map(location=[40, -60], tiles=\"OpenStreetMap\", zoom_start=3)\n",
    "hm = plugins.HeatMap(       , radius=15, blur=10)\n",
    "hm.add_to(map)\n",
    "map"
   ]
  },
  {
   "cell_type": "code",
   "execution_count": null,
   "id": "e61a5388-e43b-4021-8268-054c78ac2afa",
   "metadata": {},
   "outputs": [],
   "source": []
  }
 ],
 "metadata": {
  "kernelspec": {
   "display_name": "Python 3 (ipykernel)",
   "language": "python",
   "name": "python3"
  },
  "language_info": {
   "codemirror_mode": {
    "name": "ipython",
    "version": 3
   },
   "file_extension": ".py",
   "mimetype": "text/x-python",
   "name": "python",
   "nbconvert_exporter": "python",
   "pygments_lexer": "ipython3",
   "version": "3.12.0"
  }
 },
 "nbformat": 4,
 "nbformat_minor": 5
}
