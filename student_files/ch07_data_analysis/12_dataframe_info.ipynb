{
 "cells": [
  {
   "cell_type": "markdown",
   "metadata": {},
   "source": [
    "# 12_dataframe_info\n",
    "### The use of tools like to_numpy(), values(), describe(), info()"
   ]
  },
  {
   "cell_type": "code",
   "execution_count": 1,
   "metadata": {},
   "outputs": [],
   "source": [
    "import numpy as np\n",
    "import pandas as pd\n",
    "\n",
    "np.set_printoptions(suppress=True)"
   ]
  },
  {
   "cell_type": "code",
   "execution_count": 2,
   "metadata": {},
   "outputs": [],
   "source": [
    "data = [[6172, 34.5, 53550], [1132, 32.8, 46601], [437, 32.8, 55170], [723, 31.1, 35186], [429, 36.1, 70172]]"
   ]
  },
  {
   "cell_type": "code",
   "execution_count": 3,
   "metadata": {},
   "outputs": [],
   "source": [
    "columns = ['elevation', 'median_age', 'median_income']\n",
    "index = ['Colorado Springs', 'Phoenix', 'Raleigh', 'Milwaukee', 'Seattle']"
   ]
  },
  {
   "cell_type": "code",
   "execution_count": 4,
   "metadata": {},
   "outputs": [],
   "source": [
    "df4 = pd.DataFrame(data, index=index, columns=columns)"
   ]
  },
  {
   "cell_type": "code",
   "execution_count": 5,
   "metadata": {},
   "outputs": [
    {
     "data": {
      "text/html": [
       "<div>\n",
       "<style scoped>\n",
       "    .dataframe tbody tr th:only-of-type {\n",
       "        vertical-align: middle;\n",
       "    }\n",
       "\n",
       "    .dataframe tbody tr th {\n",
       "        vertical-align: top;\n",
       "    }\n",
       "\n",
       "    .dataframe thead th {\n",
       "        text-align: right;\n",
       "    }\n",
       "</style>\n",
       "<table border=\"1\" class=\"dataframe\">\n",
       "  <thead>\n",
       "    <tr style=\"text-align: right;\">\n",
       "      <th></th>\n",
       "      <th>elevation</th>\n",
       "      <th>median_age</th>\n",
       "      <th>median_income</th>\n",
       "    </tr>\n",
       "  </thead>\n",
       "  <tbody>\n",
       "    <tr>\n",
       "      <th>Colorado Springs</th>\n",
       "      <td>6172</td>\n",
       "      <td>34.5</td>\n",
       "      <td>53550</td>\n",
       "    </tr>\n",
       "    <tr>\n",
       "      <th>Phoenix</th>\n",
       "      <td>1132</td>\n",
       "      <td>32.8</td>\n",
       "      <td>46601</td>\n",
       "    </tr>\n",
       "    <tr>\n",
       "      <th>Raleigh</th>\n",
       "      <td>437</td>\n",
       "      <td>32.8</td>\n",
       "      <td>55170</td>\n",
       "    </tr>\n",
       "    <tr>\n",
       "      <th>Milwaukee</th>\n",
       "      <td>723</td>\n",
       "      <td>31.1</td>\n",
       "      <td>35186</td>\n",
       "    </tr>\n",
       "    <tr>\n",
       "      <th>Seattle</th>\n",
       "      <td>429</td>\n",
       "      <td>36.1</td>\n",
       "      <td>70172</td>\n",
       "    </tr>\n",
       "  </tbody>\n",
       "</table>\n",
       "</div>"
      ],
      "text/plain": [
       "                  elevation  median_age  median_income\n",
       "Colorado Springs       6172        34.5          53550\n",
       "Phoenix                1132        32.8          46601\n",
       "Raleigh                 437        32.8          55170\n",
       "Milwaukee               723        31.1          35186\n",
       "Seattle                 429        36.1          70172"
      ]
     },
     "execution_count": 5,
     "metadata": {},
     "output_type": "execute_result"
    }
   ],
   "source": [
    "df4"
   ]
  },
  {
   "cell_type": "code",
   "execution_count": 6,
   "metadata": {},
   "outputs": [
    {
     "data": {
      "text/plain": [
       "array([[ 6172. ,    34.5, 53550. ],\n",
       "       [ 1132. ,    32.8, 46601. ],\n",
       "       [  437. ,    32.8, 55170. ],\n",
       "       [  723. ,    31.1, 35186. ],\n",
       "       [  429. ,    36.1, 70172. ]])"
      ]
     },
     "execution_count": 6,
     "metadata": {},
     "output_type": "execute_result"
    }
   ],
   "source": [
    "df4.to_numpy()"
   ]
  },
  {
   "cell_type": "code",
   "execution_count": 7,
   "metadata": {},
   "outputs": [
    {
     "data": {
      "text/plain": [
       "array([[ 6172. ,    34.5, 53550. ],\n",
       "       [ 1132. ,    32.8, 46601. ],\n",
       "       [  437. ,    32.8, 55170. ],\n",
       "       [  723. ,    31.1, 35186. ],\n",
       "       [  429. ,    36.1, 70172. ]])"
      ]
     },
     "execution_count": 7,
     "metadata": {},
     "output_type": "execute_result"
    }
   ],
   "source": [
    "df4.values"
   ]
  },
  {
   "cell_type": "code",
   "execution_count": 8,
   "metadata": {},
   "outputs": [
    {
     "data": {
      "text/html": [
       "<div>\n",
       "<style scoped>\n",
       "    .dataframe tbody tr th:only-of-type {\n",
       "        vertical-align: middle;\n",
       "    }\n",
       "\n",
       "    .dataframe tbody tr th {\n",
       "        vertical-align: top;\n",
       "    }\n",
       "\n",
       "    .dataframe thead th {\n",
       "        text-align: right;\n",
       "    }\n",
       "</style>\n",
       "<table border=\"1\" class=\"dataframe\">\n",
       "  <thead>\n",
       "    <tr style=\"text-align: right;\">\n",
       "      <th></th>\n",
       "      <th>elevation</th>\n",
       "      <th>median_age</th>\n",
       "      <th>median_income</th>\n",
       "    </tr>\n",
       "  </thead>\n",
       "  <tbody>\n",
       "    <tr>\n",
       "      <th>count</th>\n",
       "      <td>5.00000</td>\n",
       "      <td>5.000000</td>\n",
       "      <td>5.000000</td>\n",
       "    </tr>\n",
       "    <tr>\n",
       "      <th>mean</th>\n",
       "      <td>1778.60000</td>\n",
       "      <td>33.460000</td>\n",
       "      <td>52135.800000</td>\n",
       "    </tr>\n",
       "    <tr>\n",
       "      <th>std</th>\n",
       "      <td>2472.63307</td>\n",
       "      <td>1.903418</td>\n",
       "      <td>12791.018067</td>\n",
       "    </tr>\n",
       "    <tr>\n",
       "      <th>min</th>\n",
       "      <td>429.00000</td>\n",
       "      <td>31.100000</td>\n",
       "      <td>35186.000000</td>\n",
       "    </tr>\n",
       "    <tr>\n",
       "      <th>25%</th>\n",
       "      <td>437.00000</td>\n",
       "      <td>32.800000</td>\n",
       "      <td>46601.000000</td>\n",
       "    </tr>\n",
       "    <tr>\n",
       "      <th>50%</th>\n",
       "      <td>723.00000</td>\n",
       "      <td>32.800000</td>\n",
       "      <td>53550.000000</td>\n",
       "    </tr>\n",
       "    <tr>\n",
       "      <th>75%</th>\n",
       "      <td>1132.00000</td>\n",
       "      <td>34.500000</td>\n",
       "      <td>55170.000000</td>\n",
       "    </tr>\n",
       "    <tr>\n",
       "      <th>max</th>\n",
       "      <td>6172.00000</td>\n",
       "      <td>36.100000</td>\n",
       "      <td>70172.000000</td>\n",
       "    </tr>\n",
       "  </tbody>\n",
       "</table>\n",
       "</div>"
      ],
      "text/plain": [
       "        elevation  median_age  median_income\n",
       "count     5.00000    5.000000       5.000000\n",
       "mean   1778.60000   33.460000   52135.800000\n",
       "std    2472.63307    1.903418   12791.018067\n",
       "min     429.00000   31.100000   35186.000000\n",
       "25%     437.00000   32.800000   46601.000000\n",
       "50%     723.00000   32.800000   53550.000000\n",
       "75%    1132.00000   34.500000   55170.000000\n",
       "max    6172.00000   36.100000   70172.000000"
      ]
     },
     "execution_count": 8,
     "metadata": {},
     "output_type": "execute_result"
    }
   ],
   "source": [
    "df4.describe()"
   ]
  },
  {
   "cell_type": "code",
   "execution_count": 9,
   "metadata": {},
   "outputs": [
    {
     "name": "stdout",
     "output_type": "stream",
     "text": [
      "<class 'pandas.core.frame.DataFrame'>\n",
      "Index: 5 entries, Colorado Springs to Seattle\n",
      "Data columns (total 3 columns):\n",
      " #   Column         Non-Null Count  Dtype  \n",
      "---  ------         --------------  -----  \n",
      " 0   elevation      5 non-null      int64  \n",
      " 1   median_age     5 non-null      float64\n",
      " 2   median_income  5 non-null      int64  \n",
      "dtypes: float64(1), int64(2)\n",
      "memory usage: 160.0+ bytes\n"
     ]
    }
   ],
   "source": [
    "df4.info(verbose=True)"
   ]
  },
  {
   "cell_type": "code",
   "execution_count": 10,
   "metadata": {},
   "outputs": [
    {
     "data": {
      "text/html": [
       "<div>\n",
       "<style scoped>\n",
       "    .dataframe tbody tr th:only-of-type {\n",
       "        vertical-align: middle;\n",
       "    }\n",
       "\n",
       "    .dataframe tbody tr th {\n",
       "        vertical-align: top;\n",
       "    }\n",
       "\n",
       "    .dataframe thead th {\n",
       "        text-align: right;\n",
       "    }\n",
       "</style>\n",
       "<table border=\"1\" class=\"dataframe\">\n",
       "  <thead>\n",
       "    <tr style=\"text-align: right;\">\n",
       "      <th></th>\n",
       "      <th>Colorado Springs</th>\n",
       "      <th>Phoenix</th>\n",
       "      <th>Raleigh</th>\n",
       "      <th>Milwaukee</th>\n",
       "      <th>Seattle</th>\n",
       "    </tr>\n",
       "  </thead>\n",
       "  <tbody>\n",
       "    <tr>\n",
       "      <th>elevation</th>\n",
       "      <td>6172.0</td>\n",
       "      <td>1132.0</td>\n",
       "      <td>437.0</td>\n",
       "      <td>723.0</td>\n",
       "      <td>429.0</td>\n",
       "    </tr>\n",
       "    <tr>\n",
       "      <th>median_age</th>\n",
       "      <td>34.5</td>\n",
       "      <td>32.8</td>\n",
       "      <td>32.8</td>\n",
       "      <td>31.1</td>\n",
       "      <td>36.1</td>\n",
       "    </tr>\n",
       "    <tr>\n",
       "      <th>median_income</th>\n",
       "      <td>53550.0</td>\n",
       "      <td>46601.0</td>\n",
       "      <td>55170.0</td>\n",
       "      <td>35186.0</td>\n",
       "      <td>70172.0</td>\n",
       "    </tr>\n",
       "  </tbody>\n",
       "</table>\n",
       "</div>"
      ],
      "text/plain": [
       "               Colorado Springs  Phoenix  Raleigh  Milwaukee  Seattle\n",
       "elevation                6172.0   1132.0    437.0      723.0    429.0\n",
       "median_age                 34.5     32.8     32.8       31.1     36.1\n",
       "median_income           53550.0  46601.0  55170.0    35186.0  70172.0"
      ]
     },
     "execution_count": 10,
     "metadata": {},
     "output_type": "execute_result"
    }
   ],
   "source": [
    "df4.T"
   ]
  }
 ],
 "metadata": {
  "kernelspec": {
   "display_name": "Python 3 (ipykernel)",
   "language": "python",
   "name": "python3"
  },
  "language_info": {
   "codemirror_mode": {
    "name": "ipython",
    "version": 3
   },
   "file_extension": ".py",
   "mimetype": "text/x-python",
   "name": "python",
   "nbconvert_exporter": "python",
   "pygments_lexer": "ipython3",
   "version": "3.12.0"
  }
 },
 "nbformat": 4,
 "nbformat_minor": 4
}
