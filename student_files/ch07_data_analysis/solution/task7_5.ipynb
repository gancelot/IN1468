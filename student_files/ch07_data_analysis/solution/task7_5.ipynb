{
 "cells": [
  {
   "cell_type": "markdown",
   "id": "c3389e5c-48c7-404d-8acf-2b78b425dbcd",
   "metadata": {},
   "source": [
    "# Task 7-5 (Solution)\n",
    "## Working with a Log File"
   ]
  },
  {
   "cell_type": "code",
   "execution_count": 1,
   "id": "cc32aa7c-0081-4f33-80df-245ec95e2010",
   "metadata": {},
   "outputs": [],
   "source": [
    "import sys\n",
    "\n",
    "import matplotlib.pyplot as plt\n",
    "import numpy as np\n",
    "import pandas as pd\n",
    "\n",
    "from folium import Map, plugins\n",
    "from pygeoip import GeoIP, GeoIPError"
   ]
  },
  {
   "cell_type": "code",
   "execution_count": 2,
   "id": "d04339f4-dfea-40f8-8213-9a89f77f80bf",
   "metadata": {},
   "outputs": [],
   "source": [
    "filepath = '../../resources/new_access.log'"
   ]
  },
  {
   "cell_type": "markdown",
   "id": "d7545e3a-7af5-4464-a053-027cd3de8f6e",
   "metadata": {},
   "source": [
    "<br><br>\n",
    "### Read the data from our the log file.  Display its shape, first few records, and column structure. "
   ]
  },
  {
   "cell_type": "code",
   "execution_count": 3,
   "id": "7ddb3a28-266a-4f62-959a-df2dfbf9cdc9",
   "metadata": {},
   "outputs": [
    {
     "data": {
      "text/plain": [
       "(463915, 6)"
      ]
     },
     "execution_count": 3,
     "metadata": {},
     "output_type": "execute_result"
    }
   ],
   "source": [
    "log = pd.read_csv(filepath, sep=r'\\s+', usecols=[0, 3, 5, 6, 7, 9], low_memory=False,\n",
    "                   names=['addr', 'req_date', 'path', 'status', 'size', 'browser'])\n",
    "log.shape"
   ]
  },
  {
   "cell_type": "code",
   "execution_count": 4,
   "id": "274c8d65-027c-492e-8d3e-e68989b5df28",
   "metadata": {},
   "outputs": [
    {
     "data": {
      "text/html": [
       "<div>\n",
       "<style scoped>\n",
       "    .dataframe tbody tr th:only-of-type {\n",
       "        vertical-align: middle;\n",
       "    }\n",
       "\n",
       "    .dataframe tbody tr th {\n",
       "        vertical-align: top;\n",
       "    }\n",
       "\n",
       "    .dataframe thead th {\n",
       "        text-align: right;\n",
       "    }\n",
       "</style>\n",
       "<table border=\"1\" class=\"dataframe\">\n",
       "  <thead>\n",
       "    <tr style=\"text-align: right;\">\n",
       "      <th></th>\n",
       "      <th>addr</th>\n",
       "      <th>req_date</th>\n",
       "      <th>path</th>\n",
       "      <th>status</th>\n",
       "      <th>size</th>\n",
       "      <th>browser</th>\n",
       "    </tr>\n",
       "  </thead>\n",
       "  <tbody>\n",
       "    <tr>\n",
       "      <th>0</th>\n",
       "      <td>109.169.248.247</td>\n",
       "      <td>[12/Dec/2015:18:25:11</td>\n",
       "      <td>GET /administrator/ HTTP/1.1</td>\n",
       "      <td>200</td>\n",
       "      <td>4263</td>\n",
       "      <td>Mozilla/5.0 (Windows NT 6.0; rv:34.0) Gecko/20...</td>\n",
       "    </tr>\n",
       "    <tr>\n",
       "      <th>1</th>\n",
       "      <td>109.169.248.247</td>\n",
       "      <td>[12/Dec/2015:18:25:11</td>\n",
       "      <td>POST /administrator/index.php HTTP/1.1</td>\n",
       "      <td>200</td>\n",
       "      <td>4494</td>\n",
       "      <td>Mozilla/5.0 (Windows NT 6.0; rv:34.0) Gecko/20...</td>\n",
       "    </tr>\n",
       "    <tr>\n",
       "      <th>2</th>\n",
       "      <td>46.72.177.4</td>\n",
       "      <td>[12/Dec/2015:18:31:08</td>\n",
       "      <td>GET /administrator/ HTTP/1.1</td>\n",
       "      <td>200</td>\n",
       "      <td>4263</td>\n",
       "      <td>Mozilla/5.0 (Windows NT 6.0; rv:34.0) Gecko/20...</td>\n",
       "    </tr>\n",
       "    <tr>\n",
       "      <th>3</th>\n",
       "      <td>46.72.177.4</td>\n",
       "      <td>[12/Dec/2015:18:31:08</td>\n",
       "      <td>POST /administrator/index.php HTTP/1.1</td>\n",
       "      <td>200</td>\n",
       "      <td>4494</td>\n",
       "      <td>Mozilla/5.0 (Windows NT 6.0; rv:34.0) Gecko/20...</td>\n",
       "    </tr>\n",
       "    <tr>\n",
       "      <th>4</th>\n",
       "      <td>83.167.113.100</td>\n",
       "      <td>[12/Dec/2015:18:31:25</td>\n",
       "      <td>GET /administrator/ HTTP/1.1</td>\n",
       "      <td>200</td>\n",
       "      <td>4263</td>\n",
       "      <td>Mozilla/5.0 (Windows NT 6.0; rv:34.0) Gecko/20...</td>\n",
       "    </tr>\n",
       "  </tbody>\n",
       "</table>\n",
       "</div>"
      ],
      "text/plain": [
       "              addr               req_date  \\\n",
       "0  109.169.248.247  [12/Dec/2015:18:25:11   \n",
       "1  109.169.248.247  [12/Dec/2015:18:25:11   \n",
       "2      46.72.177.4  [12/Dec/2015:18:31:08   \n",
       "3      46.72.177.4  [12/Dec/2015:18:31:08   \n",
       "4   83.167.113.100  [12/Dec/2015:18:31:25   \n",
       "\n",
       "                                     path  status  size  \\\n",
       "0            GET /administrator/ HTTP/1.1     200  4263   \n",
       "1  POST /administrator/index.php HTTP/1.1     200  4494   \n",
       "2            GET /administrator/ HTTP/1.1     200  4263   \n",
       "3  POST /administrator/index.php HTTP/1.1     200  4494   \n",
       "4            GET /administrator/ HTTP/1.1     200  4263   \n",
       "\n",
       "                                             browser  \n",
       "0  Mozilla/5.0 (Windows NT 6.0; rv:34.0) Gecko/20...  \n",
       "1  Mozilla/5.0 (Windows NT 6.0; rv:34.0) Gecko/20...  \n",
       "2  Mozilla/5.0 (Windows NT 6.0; rv:34.0) Gecko/20...  \n",
       "3  Mozilla/5.0 (Windows NT 6.0; rv:34.0) Gecko/20...  \n",
       "4  Mozilla/5.0 (Windows NT 6.0; rv:34.0) Gecko/20...  "
      ]
     },
     "execution_count": 4,
     "metadata": {},
     "output_type": "execute_result"
    }
   ],
   "source": [
    "log.head()"
   ]
  },
  {
   "cell_type": "code",
   "execution_count": 5,
   "id": "bb75441f-dfcb-4ac9-8301-9e6f0cc52467",
   "metadata": {},
   "outputs": [
    {
     "name": "stdout",
     "output_type": "stream",
     "text": [
      "<class 'pandas.core.frame.DataFrame'>\n",
      "RangeIndex: 463915 entries, 0 to 463914\n",
      "Data columns (total 6 columns):\n",
      " #   Column    Non-Null Count   Dtype \n",
      "---  ------    --------------   ----- \n",
      " 0   addr      463915 non-null  object\n",
      " 1   req_date  463915 non-null  object\n",
      " 2   path      463915 non-null  object\n",
      " 3   status    463915 non-null  int64 \n",
      " 4   size      463914 non-null  object\n",
      " 5   browser   463860 non-null  object\n",
      "dtypes: int64(1), object(5)\n",
      "memory usage: 21.2+ MB\n"
     ]
    }
   ],
   "source": [
    "log.info()"
   ]
  },
  {
   "cell_type": "markdown",
   "id": "cef38fbd-2a7a-4272-94ac-4ac32248010a",
   "metadata": {},
   "source": [
    "<br><br>\n",
    "### View the unique values in the *status* column."
   ]
  },
  {
   "cell_type": "code",
   "execution_count": 6,
   "id": "d2bd17c8-154f-44e3-bc53-6851e3794695",
   "metadata": {},
   "outputs": [
    {
     "data": {
      "text/plain": [
       "array([200, 404, 500, 405, 301, 304, 501, 206, 403, 303, 412, 400],\n",
       "      dtype=int64)"
      ]
     },
     "execution_count": 6,
     "metadata": {},
     "output_type": "execute_result"
    }
   ],
   "source": [
    "log.status.unique()"
   ]
  },
  {
   "cell_type": "markdown",
   "id": "00e92cb5-5905-4308-8563-b711aa0ae3fe",
   "metadata": {},
   "source": [
    "<br><br>\n",
    "### Use *value_counts()* instead to get a better picture for each status value."
   ]
  },
  {
   "cell_type": "code",
   "execution_count": 7,
   "id": "722b9541-95ed-40db-b88e-7f0862014b4c",
   "metadata": {},
   "outputs": [
    {
     "data": {
      "text/plain": [
       "status\n",
       "200    429216\n",
       "404     29687\n",
       "304      2517\n",
       "206      1689\n",
       "301       382\n",
       "500       359\n",
       "303        25\n",
       "403        19\n",
       "405        15\n",
       "412         4\n",
       "501         1\n",
       "400         1\n",
       "Name: count, dtype: int64"
      ]
     },
     "execution_count": 7,
     "metadata": {},
     "output_type": "execute_result"
    }
   ],
   "source": [
    "log.status.value_counts()"
   ]
  },
  {
   "cell_type": "markdown",
   "id": "9b7878ea-0ac1-4db7-8644-fc54f79c3d07",
   "metadata": {},
   "source": [
    "<br><br>\n",
    "### Convert the date column, which is currently a string, into an actual datetime object.  View the results again."
   ]
  },
  {
   "cell_type": "code",
   "execution_count": 8,
   "id": "7f001d24-c11d-4494-87a5-fa3cfa40afbc",
   "metadata": {},
   "outputs": [],
   "source": [
    "log.req_date = pd.to_datetime(log.req_date, format='[%d/%b/%Y:%H:%M:%S')"
   ]
  },
  {
   "cell_type": "code",
   "execution_count": 9,
   "id": "45452a52-3dca-4add-870b-1e93d6f92cad",
   "metadata": {},
   "outputs": [
    {
     "data": {
      "text/html": [
       "<div>\n",
       "<style scoped>\n",
       "    .dataframe tbody tr th:only-of-type {\n",
       "        vertical-align: middle;\n",
       "    }\n",
       "\n",
       "    .dataframe tbody tr th {\n",
       "        vertical-align: top;\n",
       "    }\n",
       "\n",
       "    .dataframe thead th {\n",
       "        text-align: right;\n",
       "    }\n",
       "</style>\n",
       "<table border=\"1\" class=\"dataframe\">\n",
       "  <thead>\n",
       "    <tr style=\"text-align: right;\">\n",
       "      <th></th>\n",
       "      <th>addr</th>\n",
       "      <th>req_date</th>\n",
       "      <th>path</th>\n",
       "      <th>status</th>\n",
       "      <th>size</th>\n",
       "      <th>browser</th>\n",
       "    </tr>\n",
       "  </thead>\n",
       "  <tbody>\n",
       "    <tr>\n",
       "      <th>0</th>\n",
       "      <td>109.169.248.247</td>\n",
       "      <td>2015-12-12 18:25:11</td>\n",
       "      <td>GET /administrator/ HTTP/1.1</td>\n",
       "      <td>200</td>\n",
       "      <td>4263</td>\n",
       "      <td>Mozilla/5.0 (Windows NT 6.0; rv:34.0) Gecko/20...</td>\n",
       "    </tr>\n",
       "    <tr>\n",
       "      <th>1</th>\n",
       "      <td>109.169.248.247</td>\n",
       "      <td>2015-12-12 18:25:11</td>\n",
       "      <td>POST /administrator/index.php HTTP/1.1</td>\n",
       "      <td>200</td>\n",
       "      <td>4494</td>\n",
       "      <td>Mozilla/5.0 (Windows NT 6.0; rv:34.0) Gecko/20...</td>\n",
       "    </tr>\n",
       "    <tr>\n",
       "      <th>2</th>\n",
       "      <td>46.72.177.4</td>\n",
       "      <td>2015-12-12 18:31:08</td>\n",
       "      <td>GET /administrator/ HTTP/1.1</td>\n",
       "      <td>200</td>\n",
       "      <td>4263</td>\n",
       "      <td>Mozilla/5.0 (Windows NT 6.0; rv:34.0) Gecko/20...</td>\n",
       "    </tr>\n",
       "    <tr>\n",
       "      <th>3</th>\n",
       "      <td>46.72.177.4</td>\n",
       "      <td>2015-12-12 18:31:08</td>\n",
       "      <td>POST /administrator/index.php HTTP/1.1</td>\n",
       "      <td>200</td>\n",
       "      <td>4494</td>\n",
       "      <td>Mozilla/5.0 (Windows NT 6.0; rv:34.0) Gecko/20...</td>\n",
       "    </tr>\n",
       "    <tr>\n",
       "      <th>4</th>\n",
       "      <td>83.167.113.100</td>\n",
       "      <td>2015-12-12 18:31:25</td>\n",
       "      <td>GET /administrator/ HTTP/1.1</td>\n",
       "      <td>200</td>\n",
       "      <td>4263</td>\n",
       "      <td>Mozilla/5.0 (Windows NT 6.0; rv:34.0) Gecko/20...</td>\n",
       "    </tr>\n",
       "  </tbody>\n",
       "</table>\n",
       "</div>"
      ],
      "text/plain": [
       "              addr            req_date  \\\n",
       "0  109.169.248.247 2015-12-12 18:25:11   \n",
       "1  109.169.248.247 2015-12-12 18:25:11   \n",
       "2      46.72.177.4 2015-12-12 18:31:08   \n",
       "3      46.72.177.4 2015-12-12 18:31:08   \n",
       "4   83.167.113.100 2015-12-12 18:31:25   \n",
       "\n",
       "                                     path  status  size  \\\n",
       "0            GET /administrator/ HTTP/1.1     200  4263   \n",
       "1  POST /administrator/index.php HTTP/1.1     200  4494   \n",
       "2            GET /administrator/ HTTP/1.1     200  4263   \n",
       "3  POST /administrator/index.php HTTP/1.1     200  4494   \n",
       "4            GET /administrator/ HTTP/1.1     200  4263   \n",
       "\n",
       "                                             browser  \n",
       "0  Mozilla/5.0 (Windows NT 6.0; rv:34.0) Gecko/20...  \n",
       "1  Mozilla/5.0 (Windows NT 6.0; rv:34.0) Gecko/20...  \n",
       "2  Mozilla/5.0 (Windows NT 6.0; rv:34.0) Gecko/20...  \n",
       "3  Mozilla/5.0 (Windows NT 6.0; rv:34.0) Gecko/20...  \n",
       "4  Mozilla/5.0 (Windows NT 6.0; rv:34.0) Gecko/20...  "
      ]
     },
     "execution_count": 9,
     "metadata": {},
     "output_type": "execute_result"
    }
   ],
   "source": [
    "log.head()"
   ]
  },
  {
   "cell_type": "code",
   "execution_count": 10,
   "id": "24007684-8e61-431e-838e-377e82948290",
   "metadata": {},
   "outputs": [
    {
     "name": "stdout",
     "output_type": "stream",
     "text": [
      "<class 'pandas.core.frame.DataFrame'>\n",
      "RangeIndex: 463915 entries, 0 to 463914\n",
      "Data columns (total 6 columns):\n",
      " #   Column    Non-Null Count   Dtype         \n",
      "---  ------    --------------   -----         \n",
      " 0   addr      463915 non-null  object        \n",
      " 1   req_date  463915 non-null  datetime64[ns]\n",
      " 2   path      463915 non-null  object        \n",
      " 3   status    463915 non-null  int64         \n",
      " 4   size      463914 non-null  object        \n",
      " 5   browser   463860 non-null  object        \n",
      "dtypes: datetime64[ns](1), int64(1), object(4)\n",
      "memory usage: 21.2+ MB\n"
     ]
    }
   ],
   "source": [
    "log.info()"
   ]
  },
  {
   "cell_type": "markdown",
   "id": "6ee22308-8ed2-43e5-8365-dae0db9299b5",
   "metadata": {},
   "source": [
    "<br><br>\n",
    "### Get a picture of which IP addresses made the most requests.  Do this by using groupby() capabilities."
   ]
  },
  {
   "cell_type": "code",
   "execution_count": 11,
   "id": "a466af62-a1c1-4f2b-a825-03bfecd50ef3",
   "metadata": {},
   "outputs": [
    {
     "data": {
      "text/plain": [
       "addr\n",
       "149.56.83.40       62178\n",
       "205.167.170.15     33302\n",
       "134.249.53.185     17904\n",
       "192.227.172.158    13474\n",
       "195.154.216.79     10996\n",
       "195.154.215.241     7705\n",
       "41.75.96.130        5664\n",
       "190.57.154.101      5662\n",
       "154.0.14.250        5659\n",
       "37.1.206.196        3780\n",
       "dtype: int64"
      ]
     },
     "execution_count": 11,
     "metadata": {},
     "output_type": "execute_result"
    }
   ],
   "source": [
    "top10_addrs = log.groupby('addr').size().nlargest(10)\n",
    "top10_addrs"
   ]
  },
  {
   "cell_type": "markdown",
   "id": "ba51cedd-7b37-4859-a500-3801b70cd900",
   "metadata": {},
   "source": [
    "<br><br>\n",
    "### Plot these results in a 'barh' graph."
   ]
  },
  {
   "cell_type": "code",
   "execution_count": 12,
   "id": "2a7cb8a3-2323-4851-a87f-e40fbb352bc6",
   "metadata": {},
   "outputs": [
    {
     "data": {
      "image/png": "[encoded data removed]",
      "text/plain": [
       "<Figure size 640x480 with 1 Axes>"
      ]
     },
     "metadata": {},
     "output_type": "display_data"
    }
   ],
   "source": [
    "top10_addrs[::-1].plot(kind='barh');"
   ]
  },
  {
   "cell_type": "markdown",
   "id": "377527df-068e-4663-8218-3681fea4e37c",
   "metadata": {},
   "source": [
    "<br><br>\n",
    "### Create a new column containing only the HTTP Method (e.g., 'GET', 'POST', etc.)"
   ]
  },
  {
   "cell_type": "code",
   "execution_count": 13,
   "id": "1be83db0-149c-40b6-aae8-ec2b08eb0497",
   "metadata": {},
   "outputs": [],
   "source": [
    "log['method'] = log.path.apply(lambda cell: cell.split()[0])"
   ]
  },
  {
   "cell_type": "code",
   "execution_count": 14,
   "id": "f56dd1f0-9235-46e6-85dc-27db7320d9e3",
   "metadata": {},
   "outputs": [
    {
     "data": {
      "text/html": [
       "<div>\n",
       "<style scoped>\n",
       "    .dataframe tbody tr th:only-of-type {\n",
       "        vertical-align: middle;\n",
       "    }\n",
       "\n",
       "    .dataframe tbody tr th {\n",
       "        vertical-align: top;\n",
       "    }\n",
       "\n",
       "    .dataframe thead th {\n",
       "        text-align: right;\n",
       "    }\n",
       "</style>\n",
       "<table border=\"1\" class=\"dataframe\">\n",
       "  <thead>\n",
       "    <tr style=\"text-align: right;\">\n",
       "      <th></th>\n",
       "      <th>addr</th>\n",
       "      <th>req_date</th>\n",
       "      <th>path</th>\n",
       "      <th>status</th>\n",
       "      <th>size</th>\n",
       "      <th>browser</th>\n",
       "      <th>method</th>\n",
       "    </tr>\n",
       "  </thead>\n",
       "  <tbody>\n",
       "    <tr>\n",
       "      <th>0</th>\n",
       "      <td>109.169.248.247</td>\n",
       "      <td>2015-12-12 18:25:11</td>\n",
       "      <td>GET /administrator/ HTTP/1.1</td>\n",
       "      <td>200</td>\n",
       "      <td>4263</td>\n",
       "      <td>Mozilla/5.0 (Windows NT 6.0; rv:34.0) Gecko/20...</td>\n",
       "      <td>GET</td>\n",
       "    </tr>\n",
       "    <tr>\n",
       "      <th>1</th>\n",
       "      <td>109.169.248.247</td>\n",
       "      <td>2015-12-12 18:25:11</td>\n",
       "      <td>POST /administrator/index.php HTTP/1.1</td>\n",
       "      <td>200</td>\n",
       "      <td>4494</td>\n",
       "      <td>Mozilla/5.0 (Windows NT 6.0; rv:34.0) Gecko/20...</td>\n",
       "      <td>POST</td>\n",
       "    </tr>\n",
       "    <tr>\n",
       "      <th>2</th>\n",
       "      <td>46.72.177.4</td>\n",
       "      <td>2015-12-12 18:31:08</td>\n",
       "      <td>GET /administrator/ HTTP/1.1</td>\n",
       "      <td>200</td>\n",
       "      <td>4263</td>\n",
       "      <td>Mozilla/5.0 (Windows NT 6.0; rv:34.0) Gecko/20...</td>\n",
       "      <td>GET</td>\n",
       "    </tr>\n",
       "    <tr>\n",
       "      <th>3</th>\n",
       "      <td>46.72.177.4</td>\n",
       "      <td>2015-12-12 18:31:08</td>\n",
       "      <td>POST /administrator/index.php HTTP/1.1</td>\n",
       "      <td>200</td>\n",
       "      <td>4494</td>\n",
       "      <td>Mozilla/5.0 (Windows NT 6.0; rv:34.0) Gecko/20...</td>\n",
       "      <td>POST</td>\n",
       "    </tr>\n",
       "    <tr>\n",
       "      <th>4</th>\n",
       "      <td>83.167.113.100</td>\n",
       "      <td>2015-12-12 18:31:25</td>\n",
       "      <td>GET /administrator/ HTTP/1.1</td>\n",
       "      <td>200</td>\n",
       "      <td>4263</td>\n",
       "      <td>Mozilla/5.0 (Windows NT 6.0; rv:34.0) Gecko/20...</td>\n",
       "      <td>GET</td>\n",
       "    </tr>\n",
       "  </tbody>\n",
       "</table>\n",
       "</div>"
      ],
      "text/plain": [
       "              addr            req_date  \\\n",
       "0  109.169.248.247 2015-12-12 18:25:11   \n",
       "1  109.169.248.247 2015-12-12 18:25:11   \n",
       "2      46.72.177.4 2015-12-12 18:31:08   \n",
       "3      46.72.177.4 2015-12-12 18:31:08   \n",
       "4   83.167.113.100 2015-12-12 18:31:25   \n",
       "\n",
       "                                     path  status  size  \\\n",
       "0            GET /administrator/ HTTP/1.1     200  4263   \n",
       "1  POST /administrator/index.php HTTP/1.1     200  4494   \n",
       "2            GET /administrator/ HTTP/1.1     200  4263   \n",
       "3  POST /administrator/index.php HTTP/1.1     200  4494   \n",
       "4            GET /administrator/ HTTP/1.1     200  4263   \n",
       "\n",
       "                                             browser method  \n",
       "0  Mozilla/5.0 (Windows NT 6.0; rv:34.0) Gecko/20...    GET  \n",
       "1  Mozilla/5.0 (Windows NT 6.0; rv:34.0) Gecko/20...   POST  \n",
       "2  Mozilla/5.0 (Windows NT 6.0; rv:34.0) Gecko/20...    GET  \n",
       "3  Mozilla/5.0 (Windows NT 6.0; rv:34.0) Gecko/20...   POST  \n",
       "4  Mozilla/5.0 (Windows NT 6.0; rv:34.0) Gecko/20...    GET  "
      ]
     },
     "execution_count": 14,
     "metadata": {},
     "output_type": "execute_result"
    }
   ],
   "source": [
    "log.head()"
   ]
  },
  {
   "cell_type": "markdown",
   "id": "22e5546e-f3e5-4f1b-ad02-2ec27c8791f3",
   "metadata": {},
   "source": [
    "<br><br>\n",
    "### Examine only the 'POST' records, and get the top 10 addresses making 'POST' requests"
   ]
  },
  {
   "cell_type": "code",
   "execution_count": 15,
   "id": "27860727-5459-40b4-aec6-ad2793851250",
   "metadata": {},
   "outputs": [
    {
     "data": {
      "text/plain": [
       "addr\n",
       "149.56.83.40       62177\n",
       "192.227.172.158     6731\n",
       "134.249.53.185      5968\n",
       "41.75.96.130        5664\n",
       "190.57.154.101      5662\n",
       "154.0.14.250        5659\n",
       "78.186.191.187      2840\n",
       "200.148.166.42      2829\n",
       "41.134.79.41        2719\n",
       "158.69.186.125      2322\n",
       "dtype: int64"
      ]
     },
     "execution_count": 15,
     "metadata": {},
     "output_type": "execute_result"
    }
   ],
   "source": [
    "mask = log.method == 'POST'\n",
    "top10_posts = log[mask].groupby('addr').size().nlargest(10)\n",
    "top10_posts"
   ]
  },
  {
   "cell_type": "markdown",
   "id": "8fb58a18-509b-4acc-bbab-8748fbce1ad8",
   "metadata": {},
   "source": [
    "<br><br>\n",
    "### Plot these results in a 'barh' graph again."
   ]
  },
  {
   "cell_type": "code",
   "execution_count": 16,
   "id": "83f20640-2e90-47dc-97d0-8cda6f2b0884",
   "metadata": {},
   "outputs": [
    {
     "data": {
      "image/png": "[encoded data removed]",
      "text/plain": [
       "<Figure size 640x480 with 1 Axes>"
      ]
     },
     "metadata": {},
     "output_type": "display_data"
    }
   ],
   "source": [
    "top10_posts[::-1].plot(kind='barh', color=['#d09a33']);"
   ]
  },
  {
   "cell_type": "markdown",
   "id": "f93cd26f-0eb6-4f72-9d0c-e9235a7bee74",
   "metadata": {},
   "source": [
    "<br><br>\n",
    "### Lookup IP addresses retrieving city, country, latitude, and longitude information for each one"
   ]
  },
  {
   "cell_type": "code",
   "execution_count": 17,
   "id": "6bdea82a-4303-496f-9621-50a9f9d82899",
   "metadata": {},
   "outputs": [],
   "source": [
    "ip_addr_lookup_file = '../../resources/GeoLiteCity.dat'"
   ]
  },
  {
   "cell_type": "code",
   "execution_count": 18,
   "id": "24d6f64f-9d10-4d66-8366-ba0481229e01",
   "metadata": {},
   "outputs": [
    {
     "data": {
      "text/plain": [
       "{'dma_code': 0,\n",
       " 'area_code': 0,\n",
       " 'metro_code': None,\n",
       " 'postal_code': 'H3A',\n",
       " 'country_code': 'CA',\n",
       " 'country_code3': 'CAN',\n",
       " 'country_name': 'Canada',\n",
       " 'continent': 'NA',\n",
       " 'region_code': 'QC',\n",
       " 'city': 'Montréal',\n",
       " 'latitude': 45.50399999999999,\n",
       " 'longitude': -73.5747,\n",
       " 'time_zone': 'America/Montreal'}"
      ]
     },
     "execution_count": 18,
     "metadata": {},
     "output_type": "execute_result"
    }
   ],
   "source": [
    "geoip = GeoIP(ip_addr_lookup_file)\n",
    "geoip.record_by_addr('149.56.83.40')"
   ]
  },
  {
   "cell_type": "code",
   "execution_count": 19,
   "id": "5c6f3298-0eb7-47cf-b0f9-ecf7dc991b55",
   "metadata": {},
   "outputs": [],
   "source": [
    "def get_location(addr):\n",
    "    results = ['', '', 0, 0]\n",
    "    try:\n",
    "        info = geoip.record_by_addr(addr)\n",
    "        if info:\n",
    "            results = [info.get('country_name'), info.get('city'), info.get('latitude'), info.get('longitude')]\n",
    "    except GeoIPError:\n",
    "        pass\n",
    "    \n",
    "    return results"
   ]
  },
  {
   "cell_type": "code",
   "execution_count": 20,
   "id": "82143ad9-1200-4d72-bcb2-86197978e267",
   "metadata": {},
   "outputs": [],
   "source": [
    "results = log.addr.apply(get_location)"
   ]
  },
  {
   "cell_type": "code",
   "execution_count": 21,
   "id": "51c8f064-bab7-45be-877b-493deccacdbb",
   "metadata": {},
   "outputs": [],
   "source": [
    "locations = pd.DataFrame(results.to_numpy().tolist(), columns=['country', 'city', 'latitude', 'longitude'])"
   ]
  },
  {
   "cell_type": "code",
   "execution_count": 22,
   "id": "4e7d880e-f39c-4059-b88b-916f54773518",
   "metadata": {},
   "outputs": [
    {
     "data": {
      "text/html": [
       "<div>\n",
       "<style scoped>\n",
       "    .dataframe tbody tr th:only-of-type {\n",
       "        vertical-align: middle;\n",
       "    }\n",
       "\n",
       "    .dataframe tbody tr th {\n",
       "        vertical-align: top;\n",
       "    }\n",
       "\n",
       "    .dataframe thead th {\n",
       "        text-align: right;\n",
       "    }\n",
       "</style>\n",
       "<table border=\"1\" class=\"dataframe\">\n",
       "  <thead>\n",
       "    <tr style=\"text-align: right;\">\n",
       "      <th></th>\n",
       "      <th>country</th>\n",
       "      <th>city</th>\n",
       "      <th>latitude</th>\n",
       "      <th>longitude</th>\n",
       "    </tr>\n",
       "  </thead>\n",
       "  <tbody>\n",
       "    <tr>\n",
       "      <th>0</th>\n",
       "      <td>Russian Federation</td>\n",
       "      <td>Chapaevsk</td>\n",
       "      <td>52.9781</td>\n",
       "      <td>49.7197</td>\n",
       "    </tr>\n",
       "    <tr>\n",
       "      <th>1</th>\n",
       "      <td>Russian Federation</td>\n",
       "      <td>Chapaevsk</td>\n",
       "      <td>52.9781</td>\n",
       "      <td>49.7197</td>\n",
       "    </tr>\n",
       "    <tr>\n",
       "      <th>2</th>\n",
       "      <td>Russian Federation</td>\n",
       "      <td>Kursk</td>\n",
       "      <td>51.8830</td>\n",
       "      <td>36.2659</td>\n",
       "    </tr>\n",
       "    <tr>\n",
       "      <th>3</th>\n",
       "      <td>Russian Federation</td>\n",
       "      <td>Kursk</td>\n",
       "      <td>51.8830</td>\n",
       "      <td>36.2659</td>\n",
       "    </tr>\n",
       "    <tr>\n",
       "      <th>4</th>\n",
       "      <td>Russian Federation</td>\n",
       "      <td>Moscow</td>\n",
       "      <td>55.7522</td>\n",
       "      <td>37.6156</td>\n",
       "    </tr>\n",
       "  </tbody>\n",
       "</table>\n",
       "</div>"
      ],
      "text/plain": [
       "              country       city  latitude  longitude\n",
       "0  Russian Federation  Chapaevsk   52.9781    49.7197\n",
       "1  Russian Federation  Chapaevsk   52.9781    49.7197\n",
       "2  Russian Federation      Kursk   51.8830    36.2659\n",
       "3  Russian Federation      Kursk   51.8830    36.2659\n",
       "4  Russian Federation     Moscow   55.7522    37.6156"
      ]
     },
     "execution_count": 22,
     "metadata": {},
     "output_type": "execute_result"
    }
   ],
   "source": [
    "locations.head()"
   ]
  },
  {
   "cell_type": "markdown",
   "id": "df5b80d7-dbf9-4b2a-9df9-54bbbe4be87c",
   "metadata": {},
   "source": [
    "<br><br>\n",
    "### Join the original DataFrame and the new results together using concat()"
   ]
  },
  {
   "cell_type": "code",
   "execution_count": 23,
   "id": "9a824cd8-8131-4d2f-9efc-010d379f369c",
   "metadata": {},
   "outputs": [
    {
     "data": {
      "text/html": [
       "<div>\n",
       "<style scoped>\n",
       "    .dataframe tbody tr th:only-of-type {\n",
       "        vertical-align: middle;\n",
       "    }\n",
       "\n",
       "    .dataframe tbody tr th {\n",
       "        vertical-align: top;\n",
       "    }\n",
       "\n",
       "    .dataframe thead th {\n",
       "        text-align: right;\n",
       "    }\n",
       "</style>\n",
       "<table border=\"1\" class=\"dataframe\">\n",
       "  <thead>\n",
       "    <tr style=\"text-align: right;\">\n",
       "      <th></th>\n",
       "      <th>addr</th>\n",
       "      <th>req_date</th>\n",
       "      <th>path</th>\n",
       "      <th>status</th>\n",
       "      <th>size</th>\n",
       "      <th>browser</th>\n",
       "      <th>method</th>\n",
       "      <th>country</th>\n",
       "      <th>city</th>\n",
       "      <th>latitude</th>\n",
       "      <th>longitude</th>\n",
       "    </tr>\n",
       "  </thead>\n",
       "  <tbody>\n",
       "    <tr>\n",
       "      <th>0</th>\n",
       "      <td>109.169.248.247</td>\n",
       "      <td>2015-12-12 18:25:11</td>\n",
       "      <td>GET /administrator/ HTTP/1.1</td>\n",
       "      <td>200</td>\n",
       "      <td>4263</td>\n",
       "      <td>Mozilla/5.0 (Windows NT 6.0; rv:34.0) Gecko/20...</td>\n",
       "      <td>GET</td>\n",
       "      <td>Russian Federation</td>\n",
       "      <td>Chapaevsk</td>\n",
       "      <td>52.9781</td>\n",
       "      <td>49.7197</td>\n",
       "    </tr>\n",
       "    <tr>\n",
       "      <th>1</th>\n",
       "      <td>109.169.248.247</td>\n",
       "      <td>2015-12-12 18:25:11</td>\n",
       "      <td>POST /administrator/index.php HTTP/1.1</td>\n",
       "      <td>200</td>\n",
       "      <td>4494</td>\n",
       "      <td>Mozilla/5.0 (Windows NT 6.0; rv:34.0) Gecko/20...</td>\n",
       "      <td>POST</td>\n",
       "      <td>Russian Federation</td>\n",
       "      <td>Chapaevsk</td>\n",
       "      <td>52.9781</td>\n",
       "      <td>49.7197</td>\n",
       "    </tr>\n",
       "    <tr>\n",
       "      <th>2</th>\n",
       "      <td>46.72.177.4</td>\n",
       "      <td>2015-12-12 18:31:08</td>\n",
       "      <td>GET /administrator/ HTTP/1.1</td>\n",
       "      <td>200</td>\n",
       "      <td>4263</td>\n",
       "      <td>Mozilla/5.0 (Windows NT 6.0; rv:34.0) Gecko/20...</td>\n",
       "      <td>GET</td>\n",
       "      <td>Russian Federation</td>\n",
       "      <td>Kursk</td>\n",
       "      <td>51.8830</td>\n",
       "      <td>36.2659</td>\n",
       "    </tr>\n",
       "    <tr>\n",
       "      <th>3</th>\n",
       "      <td>46.72.177.4</td>\n",
       "      <td>2015-12-12 18:31:08</td>\n",
       "      <td>POST /administrator/index.php HTTP/1.1</td>\n",
       "      <td>200</td>\n",
       "      <td>4494</td>\n",
       "      <td>Mozilla/5.0 (Windows NT 6.0; rv:34.0) Gecko/20...</td>\n",
       "      <td>POST</td>\n",
       "      <td>Russian Federation</td>\n",
       "      <td>Kursk</td>\n",
       "      <td>51.8830</td>\n",
       "      <td>36.2659</td>\n",
       "    </tr>\n",
       "    <tr>\n",
       "      <th>4</th>\n",
       "      <td>83.167.113.100</td>\n",
       "      <td>2015-12-12 18:31:25</td>\n",
       "      <td>GET /administrator/ HTTP/1.1</td>\n",
       "      <td>200</td>\n",
       "      <td>4263</td>\n",
       "      <td>Mozilla/5.0 (Windows NT 6.0; rv:34.0) Gecko/20...</td>\n",
       "      <td>GET</td>\n",
       "      <td>Russian Federation</td>\n",
       "      <td>Moscow</td>\n",
       "      <td>55.7522</td>\n",
       "      <td>37.6156</td>\n",
       "    </tr>\n",
       "  </tbody>\n",
       "</table>\n",
       "</div>"
      ],
      "text/plain": [
       "              addr            req_date  \\\n",
       "0  109.169.248.247 2015-12-12 18:25:11   \n",
       "1  109.169.248.247 2015-12-12 18:25:11   \n",
       "2      46.72.177.4 2015-12-12 18:31:08   \n",
       "3      46.72.177.4 2015-12-12 18:31:08   \n",
       "4   83.167.113.100 2015-12-12 18:31:25   \n",
       "\n",
       "                                     path  status  size  \\\n",
       "0            GET /administrator/ HTTP/1.1     200  4263   \n",
       "1  POST /administrator/index.php HTTP/1.1     200  4494   \n",
       "2            GET /administrator/ HTTP/1.1     200  4263   \n",
       "3  POST /administrator/index.php HTTP/1.1     200  4494   \n",
       "4            GET /administrator/ HTTP/1.1     200  4263   \n",
       "\n",
       "                                             browser method  \\\n",
       "0  Mozilla/5.0 (Windows NT 6.0; rv:34.0) Gecko/20...    GET   \n",
       "1  Mozilla/5.0 (Windows NT 6.0; rv:34.0) Gecko/20...   POST   \n",
       "2  Mozilla/5.0 (Windows NT 6.0; rv:34.0) Gecko/20...    GET   \n",
       "3  Mozilla/5.0 (Windows NT 6.0; rv:34.0) Gecko/20...   POST   \n",
       "4  Mozilla/5.0 (Windows NT 6.0; rv:34.0) Gecko/20...    GET   \n",
       "\n",
       "              country       city  latitude  longitude  \n",
       "0  Russian Federation  Chapaevsk   52.9781    49.7197  \n",
       "1  Russian Federation  Chapaevsk   52.9781    49.7197  \n",
       "2  Russian Federation      Kursk   51.8830    36.2659  \n",
       "3  Russian Federation      Kursk   51.8830    36.2659  \n",
       "4  Russian Federation     Moscow   55.7522    37.6156  "
      ]
     },
     "execution_count": 23,
     "metadata": {},
     "output_type": "execute_result"
    }
   ],
   "source": [
    "merged = pd.concat([log, locations], axis=1)\n",
    "merged.head()"
   ]
  },
  {
   "cell_type": "markdown",
   "id": "6625ac9f-b1ae-4060-9a9a-73e4fd773e6e",
   "metadata": {},
   "source": [
    "<br><br>\n",
    "### Plot the top 10 cities identified within the newly merged DataFrame.  Hint: *.groupby('city')*"
   ]
  },
  {
   "cell_type": "code",
   "execution_count": 24,
   "id": "68a74eec-4940-4efe-8464-139fbd05b0f5",
   "metadata": {},
   "outputs": [
    {
     "data": {
      "image/png": "[encoded data removed]",
      "text/plain": [
       "<Figure size 640x480 with 1 Axes>"
      ]
     },
     "metadata": {},
     "output_type": "display_data"
    }
   ],
   "source": [
    "top10_cities = merged.groupby('city').size().nlargest(10)\n",
    "top10_cities[::-1].plot(kind='barh');"
   ]
  },
  {
   "cell_type": "markdown",
   "id": "5af9767e-4a4a-45eb-9517-683132560c61",
   "metadata": {},
   "source": [
    "<br><br>\n",
    "### Plot these cities in a world map"
   ]
  },
  {
   "cell_type": "code",
   "execution_count": 25,
   "id": "7334800b-c2ac-4f47-a663-c1aa25e21a7f",
   "metadata": {},
   "outputs": [],
   "source": [
    "lat_longs = []\n",
    "for city in top10_cities.index:\n",
    "    latitude = merged.loc[city == merged['city'], 'latitude']\n",
    "    longitude = merged.loc[city == merged['city'], 'longitude']\n",
    "    lat_longs.append((latitude.iloc[0], longitude.iloc[0]))"
   ]
  },
  {
   "cell_type": "code",
   "execution_count": null,
   "id": "78253ce6-88e0-4dd6-91b1-47fc37550ea2",
   "metadata": {},
   "outputs": [],
   "source": [
    "lat_longs"
   ]
  },
  {
   "cell_type": "code",
   "execution_count": 26,
   "id": "4f5322f8-f4ea-4107-ba8e-100e68dc93df",
   "metadata": {},
   "outputs": [
    {
     "data": {
      "text/html": [
       "<div style=\"width:100%;\"><div style=\"position:relative;width:100%;height:0;padding-bottom:60%;\"><span style=\"color:#565656\">Make this Notebook Trusted to load map: File -> Trust Notebook</span><iframe srcdoc=\"&lt;!DOCTYPE html&gt;\n",
       "&lt;html&gt;\n",
       "&lt;head&gt;\n",
       "    \n",
       "    &lt;meta http-equiv=&quot;content-type&quot; content=&quot;text/html; charset=UTF-8&quot; /&gt;\n",
       "    \n",
       "        &lt;script&gt;\n",
       "            L_NO_TOUCH = false;\n",
       "            L_DISABLE_3D = false;\n",
       "        &lt;/script&gt;\n",
       "    \n",
       "    &lt;style&gt;html, body {width: 100%;height: 100%;margin: 0;padding: 0;}&lt;/style&gt;\n",
       "    &lt;style&gt;#map {position:absolute;top:0;bottom:0;right:0;left:0;}&lt;/style&gt;\n",
       "    &lt;script src=&quot;https://cdn.jsdelivr.net/npm/leaflet@1.9.3/dist/leaflet.js&quot;&gt;&lt;/script&gt;\n",
       "    &lt;script src=&quot;https://code.jquery.com/jquery-3.7.1.min.js&quot;&gt;&lt;/script&gt;\n",
       "    &lt;script src=&quot;https://cdn.jsdelivr.net/npm/bootstrap@5.2.2/dist/js/bootstrap.bundle.min.js&quot;&gt;&lt;/script&gt;\n",
       "    &lt;script src=&quot;https://cdnjs.cloudflare.com/ajax/libs/Leaflet.awesome-markers/2.0.2/leaflet.awesome-markers.js&quot;&gt;&lt;/script&gt;\n",
       "    &lt;link rel=&quot;stylesheet&quot; href=&quot;https://cdn.jsdelivr.net/npm/leaflet@1.9.3/dist/leaflet.css&quot;/&gt;\n",
       "    &lt;link rel=&quot;stylesheet&quot; href=&quot;https://cdn.jsdelivr.net/npm/bootstrap@5.2.2/dist/css/bootstrap.min.css&quot;/&gt;\n",
       "    &lt;link rel=&quot;stylesheet&quot; href=&quot;https://netdna.bootstrapcdn.com/bootstrap/3.0.0/css/bootstrap.min.css&quot;/&gt;\n",
       "    &lt;link rel=&quot;stylesheet&quot; href=&quot;https://cdn.jsdelivr.net/npm/@fortawesome/fontawesome-free@6.2.0/css/all.min.css&quot;/&gt;\n",
       "    &lt;link rel=&quot;stylesheet&quot; href=&quot;https://cdnjs.cloudflare.com/ajax/libs/Leaflet.awesome-markers/2.0.2/leaflet.awesome-markers.css&quot;/&gt;\n",
       "    &lt;link rel=&quot;stylesheet&quot; href=&quot;https://cdn.jsdelivr.net/gh/python-visualization/folium/folium/templates/leaflet.awesome.rotate.min.css&quot;/&gt;\n",
       "    \n",
       "            &lt;meta name=&quot;viewport&quot; content=&quot;width=device-width,\n",
       "                initial-scale=1.0, maximum-scale=1.0, user-scalable=no&quot; /&gt;\n",
       "            &lt;style&gt;\n",
       "                #map_c7896b4f45e030c0c7ec5c06576f3e30 {\n",
       "                    position: relative;\n",
       "                    width: 100.0%;\n",
       "                    height: 100.0%;\n",
       "                    left: 0.0%;\n",
       "                    top: 0.0%;\n",
       "                }\n",
       "                .leaflet-container { font-size: 1rem; }\n",
       "            &lt;/style&gt;\n",
       "        \n",
       "    &lt;script src=&quot;https://cdn.jsdelivr.net/gh/python-visualization/folium@main/folium/templates/leaflet_heat.min.js&quot;&gt;&lt;/script&gt;\n",
       "&lt;/head&gt;\n",
       "&lt;body&gt;\n",
       "    \n",
       "    \n",
       "            &lt;div class=&quot;folium-map&quot; id=&quot;map_c7896b4f45e030c0c7ec5c06576f3e30&quot; &gt;&lt;/div&gt;\n",
       "        \n",
       "&lt;/body&gt;\n",
       "&lt;script&gt;\n",
       "    \n",
       "    \n",
       "            var map_c7896b4f45e030c0c7ec5c06576f3e30 = L.map(\n",
       "                &quot;map_c7896b4f45e030c0c7ec5c06576f3e30&quot;,\n",
       "                {\n",
       "                    center: [40.0, -60.0],\n",
       "                    crs: L.CRS.EPSG3857,\n",
       "                    zoom: 3,\n",
       "                    zoomControl: true,\n",
       "                    preferCanvas: false,\n",
       "                }\n",
       "            );\n",
       "\n",
       "            \n",
       "\n",
       "        \n",
       "    \n",
       "            var tile_layer_dd751ce4b7d3cb8ffbeee7a6f905b8cf = L.tileLayer(\n",
       "                &quot;https://tile.openstreetmap.org/{z}/{x}/{y}.png&quot;,\n",
       "                {&quot;attribution&quot;: &quot;\\u0026copy; \\u003ca href=\\&quot;https://www.openstreetmap.org/copyright\\&quot;\\u003eOpenStreetMap\\u003c/a\\u003e contributors&quot;, &quot;detectRetina&quot;: false, &quot;maxNativeZoom&quot;: 19, &quot;maxZoom&quot;: 19, &quot;minZoom&quot;: 0, &quot;noWrap&quot;: false, &quot;opacity&quot;: 1, &quot;subdomains&quot;: &quot;abc&quot;, &quot;tms&quot;: false}\n",
       "            );\n",
       "        \n",
       "    \n",
       "            tile_layer_dd751ce4b7d3cb8ffbeee7a6f905b8cf.addTo(map_c7896b4f45e030c0c7ec5c06576f3e30);\n",
       "        \n",
       "    \n",
       "            var heat_map_d41962a5f6006795ee25838185c1a5dd = L.heatLayer(\n",
       "                [[45.50399999999999, -73.5747], [38.73150000000001, -77.0619], [48.2338, 16.290099999999995], [49.838300000000004, 24.023200000000003], [42.88640000000001, -78.8781], [55.75219999999999, 37.6156], [47.08330000000001, 15.541699999999992], [-0.216700000000003, -78.5], [-26.23089999999999, 28.058300000000003], [-25.8408, 28.17609999999999]],\n",
       "                {&quot;blur&quot;: 10, &quot;maxZoom&quot;: 18, &quot;minOpacity&quot;: 0.5, &quot;radius&quot;: 15}\n",
       "            );\n",
       "        \n",
       "    \n",
       "            heat_map_d41962a5f6006795ee25838185c1a5dd.addTo(map_c7896b4f45e030c0c7ec5c06576f3e30);\n",
       "        \n",
       "&lt;/script&gt;\n",
       "&lt;/html&gt;\" style=\"position:absolute;width:100%;height:100%;left:0;top:0;border:none !important;\" allowfullscreen webkitallowfullscreen mozallowfullscreen></iframe></div></div>"
      ],
      "text/plain": [
       "<folium.folium.Map at 0x2259b3fed80>"
      ]
     },
     "execution_count": 26,
     "metadata": {},
     "output_type": "execute_result"
    }
   ],
   "source": [
    "map = Map(location=[40, -60], tiles=\"OpenStreetMap\", zoom_start=3)\n",
    "hm = plugins.HeatMap(lat_longs, radius=15, blur=10)\n",
    "hm.add_to(map)\n",
    "map"
   ]
  },
  {
   "cell_type": "code",
   "execution_count": null,
   "id": "e61a5388-e43b-4021-8268-054c78ac2afa",
   "metadata": {},
   "outputs": [],
   "source": []
  }
 ],
 "metadata": {
  "kernelspec": {
   "display_name": "Python 3 (ipykernel)",
   "language": "python",
   "name": "python3"
  },
  "language_info": {
   "codemirror_mode": {
    "name": "ipython",
    "version": 3
   },
   "file_extension": ".py",
   "mimetype": "text/x-python",
   "name": "python",
   "nbconvert_exporter": "python",
   "pygments_lexer": "ipython3",
   "version": "3.12.0"
  }
 },
 "nbformat": 4,
 "nbformat_minor": 5
}
