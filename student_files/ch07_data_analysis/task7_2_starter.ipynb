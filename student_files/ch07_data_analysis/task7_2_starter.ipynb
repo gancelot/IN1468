{
 "cells": [
  {
   "cell_type": "markdown",
   "metadata": {},
   "source": [
    "<br><br>\n",
    "# Task 7-2 (starter)\n",
    "<br><br>\n",
    "Work from the bottom of this notebook to answer the provided questions...\n"
   ]
  },
  {
   "cell_type": "code",
   "execution_count": 1,
   "metadata": {},
   "outputs": [],
   "source": [
    "from pathlib import Path\n",
    "\n",
    "import matplotlib.pyplot as plt\n",
    "import numpy as np"
   ]
  },
  {
   "cell_type": "markdown",
   "metadata": {},
   "source": [
    "<br><br>\n",
    "#### Task 7-1 Using Jupyter"
   ]
  },
  {
   "cell_type": "code",
   "execution_count": 2,
   "metadata": {},
   "outputs": [],
   "source": [
    "def read_data(filepath: str):\n",
    "    data = []\n",
    "    with Path(filepath).open(encoding='utf-8') as f:\n",
    "        f.readline()\n",
    "        for line in f:\n",
    "            city, state, year, population = line.strip().split(',')\n",
    "            data.append((city, state, int(year), int(population)))\n",
    "    return data"
   ]
  },
  {
   "cell_type": "code",
   "execution_count": 3,
   "metadata": {},
   "outputs": [
    {
     "data": {
      "text/plain": [
       "[('Colorado Springs', 'CO', 2020, 485946),\n",
       " ('Raleigh', 'NC', 2020, 481958),\n",
       " ('Honolulu', 'HI', 2020, 342933),\n",
       " ('Anchorage', 'AK', 2010, 293310),\n",
       " ('Newark', 'NJ', 2010, 277158)]"
      ]
     },
     "execution_count": 3,
     "metadata": {},
     "output_type": "execute_result"
    }
   ],
   "source": [
    "results = read_data('../resources/population_data.csv')\n",
    "results"
   ]
  },
  {
   "cell_type": "markdown",
   "metadata": {},
   "source": [
    "<br><br>\n",
    "#### Task 7-2 Using NumPy\n",
    "\n",
    "Based on loading the data from the previous task, pass it into a NumPy array and then answer the following questions..."
   ]
  },
  {
   "cell_type": "code",
   "execution_count": 4,
   "metadata": {},
   "outputs": [],
   "source": [
    "# Step 1. Create a NumPy array from the results above.  When you create the array, supply dtype=object as well.\n",
    "# Display the NumPy array.\n"
   ]
  },
  {
   "cell_type": "markdown",
   "metadata": {},
   "source": [
    "<br><br>\n",
    "Part 1: What is the shape, size, and number of dimensions of the array?"
   ]
  },
  {
   "cell_type": "code",
   "execution_count": 5,
   "metadata": {},
   "outputs": [],
   "source": [
    "# Step 2. Display each of the values from the question above.\n"
   ]
  },
  {
   "cell_type": "markdown",
   "metadata": {},
   "source": [
    "<br><br>\n",
    "Part 2: What is the average population?\n"
   ]
  },
  {
   "cell_type": "code",
   "execution_count": 6,
   "metadata": {},
   "outputs": [],
   "source": [
    "# Step 3. Using the array, access the 4th column and take the mean() of it.\n"
   ]
  },
  {
   "cell_type": "markdown",
   "metadata": {},
   "source": [
    "<br><br>\n",
    "Part 3: How many records are from 2020?"
   ]
  },
  {
   "cell_type": "code",
   "execution_count": 7,
   "metadata": {},
   "outputs": [],
   "source": [
    "# Step 4. Create a mask that checks that the 3rd column is equal to the value of 2020.  Pass that mask into the\n",
    "# array.  Get the first value of the shape property.\n"
   ]
  },
  {
   "cell_type": "markdown",
   "metadata": {},
   "source": [
    "<br><br>\n",
    "Part 4: Display all records with a population over 350,000."
   ]
  },
  {
   "cell_type": "code",
   "execution_count": 8,
   "metadata": {},
   "outputs": [],
   "source": [
    "# Step 5. Create a mask that checks that the 4th column is greater than 350,000.  Pass that mask into the array.\n"
   ]
  },
  {
   "cell_type": "code",
   "execution_count": null,
   "metadata": {},
   "outputs": [],
   "source": []
  }
 ],
 "metadata": {
  "kernelspec": {
   "display_name": "Python 3 (ipykernel)",
   "language": "python",
   "name": "python3"
  },
  "language_info": {
   "codemirror_mode": {
    "name": "ipython",
    "version": 3
   },
   "file_extension": ".py",
   "mimetype": "text/x-python",
   "name": "python",
   "nbconvert_exporter": "python",
   "pygments_lexer": "ipython3",
   "version": "3.12.0"
  }
 },
 "nbformat": 4,
 "nbformat_minor": 4
}
