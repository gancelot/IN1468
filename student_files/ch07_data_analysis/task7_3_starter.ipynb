{
 "cells": [
  {
   "cell_type": "markdown",
   "metadata": {},
   "source": [
    "<br><br>\n",
    "# Task 7-3 (starter)\n",
    "<br><br>\n",
    "Work from the bottom of this notebook to plot the data read from the population.csv file."
   ]
  },
  {
   "cell_type": "code",
   "execution_count": 1,
   "metadata": {},
   "outputs": [],
   "source": [
    "from pathlib import Path\n",
    "\n",
    "import matplotlib.pyplot as plt\n",
    "import numpy as np"
   ]
  },
  {
   "cell_type": "markdown",
   "metadata": {},
   "source": [
    "<br><br>\n",
    "#### Task 7-1 Using Jupyter"
   ]
  },
  {
   "cell_type": "code",
   "execution_count": 2,
   "metadata": {},
   "outputs": [],
   "source": [
    "def read_data(filepath: str):\n",
    "    data = []\n",
    "    with Path(filepath).open(encoding='utf-8') as f:\n",
    "        f.readline()\n",
    "        for line in f:\n",
    "            city, state, year, population = line.strip().split(',')\n",
    "            data.append((city, state, int(year), int(population)))\n",
    "    return data"
   ]
  },
  {
   "cell_type": "code",
   "execution_count": 3,
   "metadata": {},
   "outputs": [
    {
     "data": {
      "text/plain": [
       "[('Colorado Springs', 'CO', 2020, 485946),\n",
       " ('Raleigh', 'NC', 2020, 481958),\n",
       " ('Honolulu', 'HI', 2020, 342933),\n",
       " ('Anchorage', 'AK', 2010, 293310),\n",
       " ('Newark', 'NJ', 2010, 277158)]"
      ]
     },
     "execution_count": 3,
     "metadata": {},
     "output_type": "execute_result"
    }
   ],
   "source": [
    "results = read_data('../resources/population_data.csv')\n",
    "results"
   ]
  },
  {
   "cell_type": "markdown",
   "metadata": {},
   "source": [
    "<br><br>\n",
    "#### Task 7-2 Using NumPy"
   ]
  },
  {
   "cell_type": "code",
   "execution_count": 4,
   "outputs": [
    {
     "data": {
      "text/plain": [
       "array([['Colorado Springs', 'CO', 2020, 485946],\n",
       "       ['Raleigh', 'NC', 2020, 481958],\n",
       "       ['Honolulu', 'HI', 2020, 342933],\n",
       "       ['Anchorage', 'AK', 2010, 293310],\n",
       "       ['Newark', 'NJ', 2010, 277158]], dtype=object)"
      ]
     },
     "execution_count": 4,
     "metadata": {},
     "output_type": "execute_result"
    }
   ],
   "source": [
    "city_pop = np.array(results, dtype=object)\n",
    "city_pop"
   ],
   "metadata": {
    "collapsed": false
   }
  },
  {
   "cell_type": "markdown",
   "metadata": {},
   "source": [
    "<br><br>\n",
    "Part 1: What is the shape, size, and number of dimensions of the array?"
   ]
  },
  {
   "cell_type": "code",
   "execution_count": 5,
   "metadata": {},
   "outputs": [
    {
     "data": {
      "text/plain": [
       "'Shape: (5, 4), size: 20, num. dims: 2'"
      ]
     },
     "execution_count": 5,
     "metadata": {},
     "output_type": "execute_result"
    }
   ],
   "source": [
    "f'Shape: {city_pop.shape}, size: {city_pop.size}, num. dims: {city_pop.ndim}'"
   ]
  },
  {
   "cell_type": "markdown",
   "metadata": {},
   "source": [
    "<br><br>\n",
    "Part 2: What is the average population?\n",
    "Show a couple of ways here."
   ]
  },
  {
   "cell_type": "code",
   "execution_count": 6,
   "metadata": {},
   "outputs": [
    {
     "data": {
      "text/plain": [
       "376261.0"
      ]
     },
     "execution_count": 6,
     "metadata": {},
     "output_type": "execute_result"
    }
   ],
   "source": [
    "city_pop[:, 3].mean()"
   ]
  },
  {
   "cell_type": "code",
   "execution_count": 7,
   "metadata": {},
   "outputs": [
    {
     "data": {
      "text/plain": [
       "376261.0"
      ]
     },
     "execution_count": 7,
     "metadata": {},
     "output_type": "execute_result"
    }
   ],
   "source": [
    "np.mean(city_pop[:, -1])"
   ]
  },
  {
   "cell_type": "markdown",
   "metadata": {},
   "source": [
    "<br><br>\n",
    "Part 3: How many records are from 2020?"
   ]
  },
  {
   "cell_type": "code",
   "execution_count": 8,
   "metadata": {},
   "outputs": [
    {
     "data": {
      "text/plain": [
       "3"
      ]
     },
     "execution_count": 8,
     "metadata": {},
     "output_type": "execute_result"
    }
   ],
   "source": [
    "mask = city_pop[:, 2] == 2020\n",
    "city_pop[mask].shape[0]"
   ]
  },
  {
   "cell_type": "markdown",
   "metadata": {},
   "source": [
    "<br><br>\n",
    "Part 4: Display all records with a population over 350,000."
   ]
  },
  {
   "cell_type": "code",
   "execution_count": 9,
   "metadata": {},
   "outputs": [
    {
     "data": {
      "text/plain": [
       "array([['Colorado Springs', 'CO', 2020, 485946],\n",
       "       ['Raleigh', 'NC', 2020, 481958]], dtype=object)"
      ]
     },
     "execution_count": 9,
     "metadata": {},
     "output_type": "execute_result"
    }
   ],
   "source": [
    "mask = city_pop[:, 3] > 350_000\n",
    "city_pop[mask]"
   ]
  },
  {
   "cell_type": "markdown",
   "metadata": {},
   "source": [
    "<br><br><br>\n",
    "#### Task 7-3 Plotting Population Data"
   ]
  },
  {
   "cell_type": "code",
   "execution_count": 10,
   "metadata": {},
   "outputs": [],
   "source": [
    "# Step 1. Perform a plt.bar() call.  Use parameters x= and height= and optionally color= within the call.  \n",
    "# For the x= values, select column 0.  For the height= values, select column index 3.\n",
    "# Optionally, pass an array of color values, such as '#f327e6', into the color=[] parameter.\n",
    "\n",
    "\n",
    "# Step 2. Call plt.xlabel() and plt.ylabel() to set the labels on the x and y-axes.  You can optionally pass a color= and fontsize= parameter."
   ]
  },
  {
   "cell_type": "code",
   "execution_count": null,
   "metadata": {},
   "outputs": [],
   "source": []
  }
 ],
 "metadata": {
  "kernelspec": {
   "display_name": "Python 3 (ipykernel)",
   "language": "python",
   "name": "python3"
  },
  "language_info": {
   "codemirror_mode": {
    "name": "ipython",
    "version": 3
   },
   "file_extension": ".py",
   "mimetype": "text/x-python",
   "name": "python",
   "nbconvert_exporter": "python",
   "pygments_lexer": "ipython3",
   "version": "3.12.0"
  }
 },
 "nbformat": 4,
 "nbformat_minor": 4
}
